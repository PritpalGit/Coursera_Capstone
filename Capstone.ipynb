{
 "cells": [
  {
   "cell_type": "markdown",
   "id": "de55e0ee-c352-4790-b380-e5ca18efb967",
   "metadata": {},
   "source": [
    "# Battle of the Boroughs (Title TBC)"
   ]
  },
  {
   "cell_type": "markdown",
   "id": "3aabfcb1-cd24-4022-b892-31c70a714a16",
   "metadata": {},
   "source": [
    "## This notebook will mainly be used for the Capstone project"
   ]
  },
  {
   "cell_type": "code",
   "execution_count": 6,
   "id": "c61458f1-2931-413d-99d1-6f84e74d0b6f",
   "metadata": {
    "tags": []
   },
   "outputs": [],
   "source": [
    "import pandas as pd\n",
    "import numpy as np"
   ]
  },
  {
   "cell_type": "code",
   "execution_count": 7,
   "id": "99b5eef2-85f9-42cf-84cd-ce69e318184f",
   "metadata": {},
   "outputs": [
    {
     "name": "stdout",
     "output_type": "stream",
     "text": [
      "Hello Capstone Project Course!\n"
     ]
    }
   ],
   "source": [
    "print(\"Hello Capstone Project Course!\")"
   ]
  },
  {
   "cell_type": "code",
   "execution_count": null,
   "id": "32329221-40d1-4395-a354-774d9f78ae16",
   "metadata": {},
   "outputs": [],
   "source": []
  },
  {
   "cell_type": "code",
   "execution_count": null,
   "id": "79c6dbfd-8e50-4905-b30a-fa89b9d8cd72",
   "metadata": {},
   "outputs": [],
   "source": []
  },
  {
   "cell_type": "code",
   "execution_count": null,
   "id": "112cf694-7c5e-4c11-9d2a-bb94299e498e",
   "metadata": {},
   "outputs": [],
   "source": []
  },
  {
   "cell_type": "code",
   "execution_count": null,
   "id": "8d09e3b9-2380-48b9-bab4-88d180d76d70",
   "metadata": {},
   "outputs": [],
   "source": []
  }
 ],
 "metadata": {
  "kernelspec": {
   "display_name": "Python",
   "language": "python",
   "name": "conda-env-python-py"
  },
  "language_info": {
   "codemirror_mode": {
    "name": "ipython",
    "version": 3
   },
   "file_extension": ".py",
   "mimetype": "text/x-python",
   "name": "python",
   "nbconvert_exporter": "python",
   "pygments_lexer": "ipython3",
   "version": "3.6.13"
  }
 },
 "nbformat": 4,
 "nbformat_minor": 5
}
